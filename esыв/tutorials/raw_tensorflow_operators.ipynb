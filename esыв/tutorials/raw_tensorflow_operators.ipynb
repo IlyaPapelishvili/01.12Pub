{
  "cells": [
    {
      "cell_type": "markdown",
      "metadata": {
        "colab_type": "text",
        "id": "XNWJ6JVGkOlf"
      },
      "source": [
        "##### Copyright 2018 Los autores de TensorFlow. [Con licencia de Apache License, versión 2.0](#scrollTo=bPJq2qP2KE3u) ."
      ]
    },
    {
      "cell_type": "code",
      "execution_count": null,
      "metadata": {
        "colab": {
        },
        "colab_type": "code",
        "id": "fSlQ2vFzKGOY"
      },
      "outputs": [

      ],
      "source": [
        "// #@title Licensed under the Apache License, Version 2.0 (the \"License\"); { display-mode: \"form\" }\n",
        "// Licensed under the Apache License, Version 2.0 (the \"License\");\n",
        "// you may not use this file except in compliance with the License.\n",
        "// You may obtain a copy of the License at\n",
        "//\n",
        "// https://www.apache.org/licenses/LICENSE-2.0\n",
        "//\n",
        "// Unless required by applicable law or agreed to in writing, software\n",
        "// distributed under the License is distributed on an \"AS IS\" BASIS,\n",
        "// WITHOUT WARRANTIES OR CONDITIONS OF ANY KIND, either express or implied.\n",
        "// See the License for the specific language governing permissions and\n",
        "// limitations under the License."
      ]
    },
    {
      "cell_type": "markdown",
      "metadata": {
        "colab_type": "text",
        "id": "yfNdITLmJtX8"
      },
      "source": [
        "<table class=\"tfo-notebook-buttons\" align=\"left\">\n",
        "  <td><a target=\"_blank\" href=\"https://www.tensorflow.org/swift/tutorials/raw_tensorflow_operators\"><img src=\"https://www.tensorflow.org/images/tf_logo_32px.png\">Ver en TensorFlow.org</a></td>\n",
        "  <td><a target=\"_blank\" href=\"https://colab.research.google.com/github/tensorflow/swift/blob/master/docs/site/tutorials/raw_tensorflow_operators.ipynb\"><img src=\"https://www.tensorflow.org/images/colab_logo_32px.png\">Ejecutar en Google Colab</a></td>\n",
        "  <td><a target=\"_blank\" href=\"https://github.com/tensorflow/swift/blob/master/docs/site/tutorials/raw_tensorflow_operators.ipynb\"><img src=\"https://www.tensorflow.org/images/GitHub-Mark-32px.png\">Ver fuente en GitHub</a></td>\n",
        "</table>"
      ]
    },
    {
      "cell_type": "markdown",
      "metadata": {
        "colab_type": "text",
        "id": "lONNcRalVUO9"
      },
      "source": [
        "# Operadores de TensorFlow sin procesar\n",
        "\n",
        "Swift para TensorFlow, basado en TensorFlow, adopta un enfoque nuevo para el diseño de API. Las API se seleccionan cuidadosamente a partir de bibliotecas establecidas y se combinan con nuevas expresiones idiomáticas. Esto significa que no todas las API de TensorFlow estarán disponibles directamente como API de Swift, y nuestra selección de API necesita tiempo y esfuerzo dedicado para evolucionar. Sin embargo, no se preocupe si su operador de TensorFlow favorito no está disponible en Swift: la biblioteca de TensorFlow Swift le brinda acceso transparente a la mayoría de los operadores de TensorFlow, en el espacio de nombres `_Raw` .\n"
      ]
    },
    {
      "cell_type": "markdown",
      "metadata": {
        "colab_type": "text",
        "id": "CYqNvcHxqg0Y"
      },
      "source": [
        "Importa `TensorFlow` para comenzar."
      ]
    },
    {
      "cell_type": "code",
      "execution_count": null,
      "metadata": {
        "colab": {
        },
        "colab_type": "code",
        "id": "cVRrzjzFqee9"
      },
      "outputs": [

      ],
      "source": [
        "import TensorFlow"
      ]
    },
    {
      "cell_type": "markdown",
      "metadata": {
        "colab_type": "text",
        "id": "5vza91sR09r-"
      },
      "source": [
        "## Llamar a operadores sin procesar\n",
        "\n",
        "Simplemente busque la función que necesita en el espacio de nombres `_Raw` mediante la finalización del código."
      ]
    },
    {
      "cell_type": "code",
      "execution_count": null,
      "metadata": {
        "colab": {
          "base_uri": "https://localhost:8080/",
          "height": 34
        },
        "colab_type": "code",
        "id": "kZRlD4utdPuX",
        "outputId": "6145cbb9-3b0b-42ee-c005-4040bf58eea6"
      },
      "outputs": [

      ],
      "source": [
        "_Raw.mul(Tensor([2.0, 3.0]), Tensor([5.0, 6.0]))"
      ]
    },
    {
      "cell_type": "markdown",
      "metadata": {
        "colab_type": "text",
        "id": "iIgKg-ueVCy_"
      },
      "source": [
        "## Definición de un nuevo operador de multiplicación\n",
        "\n",
        "Multiply ya está disponible como operador `*` en `Tensor` , pero pretendamos que queremos que esté disponible con un nuevo nombre como `.*` . Swift le permite agregar métodos o propiedades calculadas de forma retroactiva a tipos existentes mediante declaraciones de `extension` .\n",
        "\n",
        "Ahora, agreguemos `.*` `Tensor` declarando una extensión y haga que esté disponible cuando el tipo `Scalar` del tensor se ajuste a [`Numeric`](https://developer.apple.com/documentation/swift/numeric) ."
      ]
    },
    {
      "cell_type": "code",
      "execution_count": null,
      "metadata": {
        "colab": {
          "base_uri": "https://localhost:8080/",
          "height": 34
        },
        "colab_type": "code",
        "id": "BdH-yZBjTZNx",
        "outputId": "f3eaa279-a58a-4399-cbdd-a419e71bc88a"
      },
      "outputs": [

      ],
      "source": [
        "infix operator .* : MultiplicationPrecedence\n",
        "\n",
        "extension Tensor where Scalar: Numeric {\n",
        "    static func .* (_ lhs: Tensor, _ rhs: Tensor) -> Tensor {\n",
        "        return _Raw.mul(lhs, rhs)\n",
        "    }\n",
        "}\n",
        "\n",
        "let x: Tensor<Double> = [[1.0, 2.0], [3.0, 4.0]]\n",
        "let y: Tensor<Double> = [[8.0, 7.0], [6.0, 5.0]]\n",
        "x .* y"
      ]
    },
    {
      "cell_type": "markdown",
      "metadata": {
        "colab_type": "text",
        "id": "ucD5XZYYyzNe"
      },
      "source": [
        "## Definición de una derivada de una función envuelta\n",
        "\n",
        "No solo puede definir fácilmente una API Swift para un operador de TensorFlow sin procesar, sino que también puede hacer que sea diferenciable para trabajar con la diferenciación automática de primera clase de Swift.\n",
        "\n",
        "Para hacer `.*` Diferenciable, use el atributo `@derivative` en la función derivada y especifique la función original como un argumento de atributo bajo la etiqueta `of:` . Dado que el operador `.*` Se define cuando el tipo genérico `Scalar` ajusta a `Numeric` , no es suficiente para hacer que `Tensor<Scalar>` ajuste al protocolo `Differentiable` . Nacido con la seguridad de tipos, Swift nos recordará que agreguemos una restricción genérica en el atributo `@differentiable` para requerir que `Scalar` ajuste al protocolo `TensorFlowFloatingPoint` , lo que haría que `Tensor<Scalar>` ajuste a `Differentiable` .\n",
        "\n",
        "```swift\n",
        "@differentiable(where Scalar: TensorFlowFloatingPoint)\n",
        "```"
      ]
    },
    {
      "cell_type": "code",
      "execution_count": null,
      "metadata": {
        "colab": {
          "base_uri": "https://localhost:8080/",
          "height": 68
        },
        "colab_type": "code",
        "id": "fDXS0h_YumcL",
        "outputId": "4f3bf631-492d-4e0b-d93e-d9cb3f95bc45"
      },
      "outputs": [

      ],
      "source": [
        "infix operator .* : MultiplicationPrecedence\n",
        "\n",
        "extension Tensor where Scalar: Numeric {\n",
        "    @differentiable(where Scalar: TensorFlowFloatingPoint)\n",
        "    static func .* (_ lhs: Tensor,  _ rhs: Tensor) -> Tensor {\n",
        "        return _Raw.mul(lhs, rhs)\n",
        "    }\n",
        "}\n",
        "\n",
        "extension Tensor where Scalar : TensorFlowFloatingPoint { \n",
        "    @derivative(of: .*)\n",
        "    static func multiplyDerivative(\n",
        "        _ lhs: Tensor, _ rhs: Tensor\n",
        "    ) -> (value: Tensor, pullback: (Tensor) -> (Tensor, Tensor)) {\n",
        "        return (lhs * rhs, { v in\n",
        "            ((rhs * v).unbroadcasted(to: lhs.shape),\n",
        "            (lhs * v).unbroadcasted(to: rhs.shape))\n",
        "        })\n",
        "    }\n",
        "}\n",
        "\n",
        "// Now, we can take the derivative of a function that calls `.*` that we just defined.\n",
        "gradient(at: x, y) { x, y in\n",
        "    (x .* y).sum()\n",
        "}"
      ]
    },
    {
      "cell_type": "markdown",
      "metadata": {
        "colab_type": "text",
        "id": "l7kae5o1VKnu"
      },
      "source": [
        "## Más ejemplos"
      ]
    },
    {
      "cell_type": "code",
      "execution_count": null,
      "metadata": {
        "colab": {
          "base_uri": "https://localhost:8080/",
          "height": 85
        },
        "colab_type": "code",
        "id": "v92FrXpCSuLT",
        "outputId": "67cadc53-c983-421a-baa1-c855e08deb85"
      },
      "outputs": [

      ],
      "source": [
        "let matrix = Tensor<Float>([[1, 2], [3, 4]])\n",
        "\n",
        "print(_Raw.matMul(matrix, matrix, transposeA: true, transposeB: true))\n",
        "print(_Raw.matMul(matrix, matrix, transposeA: true, transposeB: false))\n",
        "print(_Raw.matMul(matrix, matrix, transposeA: false, transposeB: true))\n",
        "print(_Raw.matMul(matrix, matrix, transposeA: false, transposeB: false))"
      ]
    }
  ],
  "metadata": {
    "colab": {
      "collapsed_sections": [

      ],
      "name": "Raw TensorFlow operators.ipynb",
      "provenance": [

      ],
      "toc_visible": true,
      "version": "0.3.2"
    },
    "kernelspec": {
      "display_name": "Swift",
      "language": "swift",
      "name": "swift"
    },
    "language_info": {
      "file_extension": ".swift",
      "mimetype": "text/x-swift",
      "name": "swift",
      "version": ""
    }
  },
  "nbformat": 4,
  "nbformat_minor": 1
}
